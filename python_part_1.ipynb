{
  "nbformat": 4,
  "nbformat_minor": 0,
  "metadata": {
    "colab": {
      "provenance": [],
      "authorship_tag": "ABX9TyP87R8lFc4QZI8mZnj8Mt86",
      "include_colab_link": true
    },
    "kernelspec": {
      "name": "python3",
      "display_name": "Python 3"
    },
    "language_info": {
      "name": "python"
    }
  },
  "cells": [
    {
      "cell_type": "markdown",
      "metadata": {
        "id": "view-in-github",
        "colab_type": "text"
      },
      "source": [
        "<a href=\"https://colab.research.google.com/github/ShindyAinun/git-day-5/blob/main/python_part_1.ipynb\" target=\"_parent\"><img src=\"https://colab.research.google.com/assets/colab-badge.svg\" alt=\"Open In Colab\"/></a>"
      ]
    },
    {
      "cell_type": "code",
      "execution_count": null,
      "metadata": {
        "id": "CXmUHNqK4ArW"
      },
      "outputs": [],
      "source": [
        "# Input\n",
        "lirik = \"balonku ada lima\""
      ]
    },
    {
      "cell_type": "code",
      "source": [
        "def change_vocal(inputs):\n",
        "  final_word = \"\"\n",
        "  vocal = [\"a\", \"i\", \"u\", \"e\", \"o\"]\n",
        "  for letter in inputs:\n",
        "    new_letter = letter\n",
        "    if letter in vocal:\n",
        "      new_letter = \"a\"\n",
        "    final_word += new_letter\n",
        "  return final_word"
      ],
      "metadata": {
        "id": "lGtcWmLt42c7"
      },
      "execution_count": null,
      "outputs": []
    },
    {
      "cell_type": "code",
      "source": [
        "#Output\n",
        "print(change_vocal(lirik))"
      ],
      "metadata": {
        "colab": {
          "base_uri": "https://localhost:8080/"
        },
        "id": "iBrIx6Fg5Rd9",
        "outputId": "29051ff9-057f-49dc-ce6d-75c0c64fe395"
      },
      "execution_count": null,
      "outputs": [
        {
          "output_type": "stream",
          "name": "stdout",
          "text": [
            "balanka ada lama\n"
          ]
        }
      ]
    },
    {
      "cell_type": "code",
      "source": [
        "def change_vocal(inputs):\n",
        "  final_word = \"\"\n",
        "  vocal = [\"a\", \"i\", \"u\", \"e\", \"o\"]\n",
        "  for letter in inputs:\n",
        "    new_letter = letter\n",
        "    if letter in vocal:\n",
        "      new_letter = \"i\"\n",
        "    final_word += new_letter\n",
        "  return final_word"
      ],
      "metadata": {
        "id": "Uocene7z5sRZ"
      },
      "execution_count": null,
      "outputs": []
    },
    {
      "cell_type": "code",
      "source": [
        "#Output\n",
        "print(change_vocal(lirik))"
      ],
      "metadata": {
        "colab": {
          "base_uri": "https://localhost:8080/"
        },
        "id": "lJIvadLe5_1e",
        "outputId": "073026c4-bcaa-49ae-8c14-1421dba81a04"
      },
      "execution_count": null,
      "outputs": [
        {
          "output_type": "stream",
          "name": "stdout",
          "text": [
            "bilinki idi limi\n"
          ]
        }
      ]
    },
    {
      "cell_type": "code",
      "source": [
        "def change_vocal(inputs):\n",
        "  final_word = \"\"\n",
        "  vocal = [\"a\", \"i\", \"u\", \"e\", \"o\"]\n",
        "  for letter in inputs:\n",
        "    new_letter = letter\n",
        "    if letter in vocal:\n",
        "      new_letter = \"u\"\n",
        "    final_word += new_letter\n",
        "  return final_word"
      ],
      "metadata": {
        "id": "2OgyXLoU6FEx"
      },
      "execution_count": null,
      "outputs": []
    },
    {
      "cell_type": "code",
      "source": [
        "#Output\n",
        "print(change_vocal(lirik))"
      ],
      "metadata": {
        "colab": {
          "base_uri": "https://localhost:8080/"
        },
        "id": "XNq4ss0x6JIB",
        "outputId": "dd230781-5b18-4136-cbf1-017cac3c365d"
      },
      "execution_count": null,
      "outputs": [
        {
          "output_type": "stream",
          "name": "stdout",
          "text": [
            "bulunku udu lumu\n"
          ]
        }
      ]
    },
    {
      "cell_type": "code",
      "source": [
        "def change_vocal(inputs):\n",
        "  final_word = \"\"\n",
        "  vocal = [\"a\", \"i\", \"u\", \"e\", \"o\"]\n",
        "  for letter in inputs:\n",
        "    new_letter = letter\n",
        "    if letter in vocal:\n",
        "      new_letter = \"e\"\n",
        "    final_word += new_letter\n",
        "  return final_word"
      ],
      "metadata": {
        "id": "tXdg3mr36Yfg"
      },
      "execution_count": null,
      "outputs": []
    },
    {
      "cell_type": "code",
      "source": [
        "#Output\n",
        "print(change_vocal(lirik))"
      ],
      "metadata": {
        "colab": {
          "base_uri": "https://localhost:8080/"
        },
        "id": "uvrrNy9V6dQi",
        "outputId": "622d92f4-9698-48b5-e182-f7833ca898a2"
      },
      "execution_count": null,
      "outputs": [
        {
          "output_type": "stream",
          "name": "stdout",
          "text": [
            "belenke ede leme\n"
          ]
        }
      ]
    },
    {
      "cell_type": "code",
      "source": [
        "def change_vocal(inputs):\n",
        "  final_word = \"\"\n",
        "  vocal = [\"a\", \"i\", \"u\", \"e\", \"o\"]\n",
        "  for letter in inputs:\n",
        "    new_letter = letter\n",
        "    if letter in vocal:\n",
        "      new_letter = \"o\"\n",
        "    final_word += new_letter\n",
        "  return final_word"
      ],
      "metadata": {
        "id": "at9xJopI6uqp"
      },
      "execution_count": null,
      "outputs": []
    },
    {
      "cell_type": "code",
      "source": [
        "#Output\n",
        "print(change_vocal(lirik))"
      ],
      "metadata": {
        "colab": {
          "base_uri": "https://localhost:8080/"
        },
        "id": "DpdNNFWN6zKP",
        "outputId": "86b62dc2-360b-488a-88a4-cad10df4b36f"
      },
      "execution_count": null,
      "outputs": [
        {
          "output_type": "stream",
          "name": "stdout",
          "text": [
            "bolonko odo lomo\n"
          ]
        }
      ]
    },
    {
      "cell_type": "markdown",
      "source": [
        "#ASSIGMENT 2\n",
        "Write a program to check student attendance A student will not be allowed to sit an exam if his/her attendance is less than 75%."
      ],
      "metadata": {
        "id": "IaYjjM0-67ul"
      }
    },
    {
      "cell_type": "code",
      "source": [
        "#Input\n",
        "class_held = 20\n",
        "student = [\"Asnawi\", \"Haaland\", \"Hazard\", \"Maudy Ayunan\", \"Marselino\", \"Dembele\"]\n",
        "class_attended = [18, 19, 10, 20, 17, 13]\n"
      ],
      "metadata": {
        "id": "VM-k7ihr8WMj"
      },
      "execution_count": null,
      "outputs": []
    },
    {
      "cell_type": "code",
      "source": [
        "def check_attendance(student, class_attended):\n",
        "  persentage = (class_attended/20) * 100\n",
        "  if persentage >=75.0:\n",
        "    print(f\"kehadiran {student} lebih dari 75% dapat mengikuti ujian cunin\")\n",
        "  else:\n",
        "    print(f\"kehadira {student} kurang dari 75% tidak dapat mengikuti ujian cunin\")"
      ],
      "metadata": {
        "id": "EHMiwVGe_lRS"
      },
      "execution_count": 29,
      "outputs": []
    },
    {
      "cell_type": "code",
      "source": [
        "for i in range(len(student)):\n",
        "  check_attendance(student[i], class_attended[i])"
      ],
      "metadata": {
        "id": "nenzWZFiCjf1",
        "colab": {
          "base_uri": "https://localhost:8080/"
        },
        "outputId": "83589028-8faa-416e-d436-800db3130033"
      },
      "execution_count": 30,
      "outputs": [
        {
          "output_type": "stream",
          "name": "stdout",
          "text": [
            "kehadiran Asnawi lebih dari 75% dapat mengikuti ujian cunin\n",
            "kehadiran Haaland lebih dari 75% dapat mengikuti ujian cunin\n",
            "kehadira Hazard kurang dari 75% tidak dapat mengikuti ujian cunin\n",
            "kehadiran Maudy Ayunan lebih dari 75% dapat mengikuti ujian cunin\n",
            "kehadiran Marselino lebih dari 75% dapat mengikuti ujian cunin\n",
            "kehadira Dembele kurang dari 75% tidak dapat mengikuti ujian cunin\n"
          ]
        }
      ]
    }
  ]
}